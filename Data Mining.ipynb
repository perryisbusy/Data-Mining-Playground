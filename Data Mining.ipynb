{
 "cells": [
  {
   "cell_type": "markdown",
   "id": "6189cb21",
   "metadata": {},
   "source": [
    "###### Data Mining Project\n",
    "###### Email : perryliutx@gmail.com\n",
    "###### Zhicheng Liu"
   ]
  },
  {
   "cell_type": "markdown",
   "id": "national-immigration",
   "metadata": {},
   "source": [
    "# Importing Libraries"
   ]
  },
  {
   "cell_type": "code",
   "execution_count": 2,
   "id": "attempted-security",
   "metadata": {
    "scrolled": true
   },
   "outputs": [],
   "source": [
    "import pandas as pd\n",
    "import numpy as np\n",
    "from sklearn import preprocessing \n",
    "import matplotlib.pyplot as plt"
   ]
  },
  {
   "cell_type": "markdown",
   "id": "higher-trauma",
   "metadata": {},
   "source": [
    "# Importing from CSV file"
   ]
  },
  {
   "cell_type": "code",
   "execution_count": 3,
   "id": "underlying-proposal",
   "metadata": {},
   "outputs": [],
   "source": [
    "breach = pd.read_csv(filepath_or_buffer=\"D:\\\\Temp\\\\Data Breaches - Raw Data.csv\")"
   ]
  },
  {
   "cell_type": "markdown",
   "id": "informational-malpractice",
   "metadata": {},
   "source": [
    "# Data Cleansing & Validation"
   ]
  },
  {
   "cell_type": "code",
   "execution_count": 4,
   "id": "nasty-pixel",
   "metadata": {},
   "outputs": [
    {
     "data": {
      "text/html": [
       "<div>\n",
       "<style scoped>\n",
       "    .dataframe tbody tr th:only-of-type {\n",
       "        vertical-align: middle;\n",
       "    }\n",
       "\n",
       "    .dataframe tbody tr th {\n",
       "        vertical-align: top;\n",
       "    }\n",
       "\n",
       "    .dataframe thead th {\n",
       "        text-align: right;\n",
       "    }\n",
       "</style>\n",
       "<table border=\"1\" class=\"dataframe\">\n",
       "  <thead>\n",
       "    <tr style=\"text-align: right;\">\n",
       "      <th></th>\n",
       "      <th>Entity</th>\n",
       "      <th>alternative name</th>\n",
       "      <th>records lost</th>\n",
       "      <th>YEAR</th>\n",
       "      <th>story</th>\n",
       "      <th>SECTOR</th>\n",
       "      <th>METHOD</th>\n",
       "      <th>interesting story</th>\n",
       "      <th>DATA SENSITIVITY</th>\n",
       "      <th>DISPLAYED RECORDS</th>\n",
       "      <th>Unnamed: 10</th>\n",
       "      <th>source name</th>\n",
       "      <th>1st source link</th>\n",
       "      <th>2nd source link</th>\n",
       "    </tr>\n",
       "  </thead>\n",
       "  <tbody>\n",
       "    <tr>\n",
       "      <th>0</th>\n",
       "      <td>NaN</td>\n",
       "      <td>NaN</td>\n",
       "      <td>NaN</td>\n",
       "      <td>year story broke</td>\n",
       "      <td>NaN</td>\n",
       "      <td>web\\nhealthcare\\napp\\nretail\\ngaming\\ntranspor...</td>\n",
       "      <td>poor security\\nhacked\\noops!\\nlost device \\nin...</td>\n",
       "      <td>NaN</td>\n",
       "      <td>1. Just email address/Online information \\n2 S...</td>\n",
       "      <td>=IF(C3&gt;100000000,C3,\")</td>\n",
       "      <td>NaN</td>\n",
       "      <td>NaN</td>\n",
       "      <td>NaN</td>\n",
       "      <td>NaN</td>\n",
       "    </tr>\n",
       "    <tr>\n",
       "      <th>1</th>\n",
       "      <td>US Customs and Border Protection</td>\n",
       "      <td>NaN</td>\n",
       "      <td>100,000</td>\n",
       "      <td>2019</td>\n",
       "      <td>June 2019. Photos of travellers' faces and lic...</td>\n",
       "      <td>government</td>\n",
       "      <td>hacked</td>\n",
       "      <td>y</td>\n",
       "      <td>2</td>\n",
       "      <td>NaN</td>\n",
       "      <td>NaN</td>\n",
       "      <td>Washington Post</td>\n",
       "      <td>https://www.washingtonpost.com/technology/2019...</td>\n",
       "      <td>NaN</td>\n",
       "    </tr>\n",
       "    <tr>\n",
       "      <th>2</th>\n",
       "      <td>Click2Gov</td>\n",
       "      <td>NaN</td>\n",
       "      <td>300,000</td>\n",
       "      <td>2018</td>\n",
       "      <td>Dec 2018. Vulnerabilities in Click2Gov, a type...</td>\n",
       "      <td>financial</td>\n",
       "      <td>hacked</td>\n",
       "      <td>NaN</td>\n",
       "      <td>3</td>\n",
       "      <td>NaN</td>\n",
       "      <td>NaN</td>\n",
       "      <td>Fortune</td>\n",
       "      <td>http://fortune.com/2018/12/18/click2gov-local-...</td>\n",
       "      <td>NaN</td>\n",
       "    </tr>\n",
       "    <tr>\n",
       "      <th>3</th>\n",
       "      <td>SingHealth</td>\n",
       "      <td>NaN</td>\n",
       "      <td>1,500,000</td>\n",
       "      <td>2018</td>\n",
       "      <td>July 2018. Hackers stole personal details of 1...</td>\n",
       "      <td>healthcare</td>\n",
       "      <td>hacked</td>\n",
       "      <td>NaN</td>\n",
       "      <td>4</td>\n",
       "      <td>NaN</td>\n",
       "      <td>NaN</td>\n",
       "      <td>Straits Times</td>\n",
       "      <td>https://www.straitstimes.com/singapore/persona...</td>\n",
       "      <td>NaN</td>\n",
       "    </tr>\n",
       "    <tr>\n",
       "      <th>4</th>\n",
       "      <td>Quest Diagnostics</td>\n",
       "      <td>NaN</td>\n",
       "      <td>11,900,000</td>\n",
       "      <td>2019</td>\n",
       "      <td>June 2019. One of the biggest blood testing pr...</td>\n",
       "      <td>healthcare</td>\n",
       "      <td>poor security</td>\n",
       "      <td>NaN</td>\n",
       "      <td>4</td>\n",
       "      <td>NaN</td>\n",
       "      <td>NaN</td>\n",
       "      <td>NBC News</td>\n",
       "      <td>https://www.nbcnewyork.com/news/local/Quest-Di...</td>\n",
       "      <td>NaN</td>\n",
       "    </tr>\n",
       "  </tbody>\n",
       "</table>\n",
       "</div>"
      ],
      "text/plain": [
       "                             Entity alternative name records lost  \\\n",
       "0                               NaN              NaN          NaN   \n",
       "1  US Customs and Border Protection              NaN      100,000   \n",
       "2                         Click2Gov              NaN      300,000   \n",
       "3                        SingHealth              NaN    1,500,000   \n",
       "4                 Quest Diagnostics              NaN   11,900,000   \n",
       "\n",
       "               YEAR                                              story  \\\n",
       "0  year story broke                                                NaN   \n",
       "1              2019  June 2019. Photos of travellers' faces and lic...   \n",
       "2              2018  Dec 2018. Vulnerabilities in Click2Gov, a type...   \n",
       "3              2018  July 2018. Hackers stole personal details of 1...   \n",
       "4              2019  June 2019. One of the biggest blood testing pr...   \n",
       "\n",
       "                                              SECTOR  \\\n",
       "0  web\\nhealthcare\\napp\\nretail\\ngaming\\ntranspor...   \n",
       "1                                         government   \n",
       "2                                          financial   \n",
       "3                                         healthcare   \n",
       "4                                         healthcare   \n",
       "\n",
       "                                              METHOD interesting story  \\\n",
       "0  poor security\\nhacked\\noops!\\nlost device \\nin...               NaN   \n",
       "1                                             hacked                 y   \n",
       "2                                             hacked               NaN   \n",
       "3                                             hacked               NaN   \n",
       "4                                      poor security               NaN   \n",
       "\n",
       "                                    DATA SENSITIVITY       DISPLAYED RECORDS  \\\n",
       "0  1. Just email address/Online information \\n2 S...  =IF(C3>100000000,C3,\")   \n",
       "1                                                  2                     NaN   \n",
       "2                                                  3                     NaN   \n",
       "3                                                  4                     NaN   \n",
       "4                                                  4                     NaN   \n",
       "\n",
       "   Unnamed: 10      source name  \\\n",
       "0          NaN              NaN   \n",
       "1          NaN  Washington Post   \n",
       "2          NaN          Fortune   \n",
       "3          NaN    Straits Times   \n",
       "4          NaN         NBC News   \n",
       "\n",
       "                                     1st source link 2nd source link  \n",
       "0                                                NaN             NaN  \n",
       "1  https://www.washingtonpost.com/technology/2019...             NaN  \n",
       "2  http://fortune.com/2018/12/18/click2gov-local-...             NaN  \n",
       "3  https://www.straitstimes.com/singapore/persona...             NaN  \n",
       "4  https://www.nbcnewyork.com/news/local/Quest-Di...             NaN  "
      ]
     },
     "execution_count": 4,
     "metadata": {},
     "output_type": "execute_result"
    }
   ],
   "source": [
    "breach.head()"
   ]
  },
  {
   "cell_type": "code",
   "execution_count": 5,
   "id": "solar-trash",
   "metadata": {},
   "outputs": [
    {
     "name": "stdout",
     "output_type": "stream",
     "text": [
      "<class 'pandas.core.frame.DataFrame'>\n",
      "RangeIndex: 340 entries, 0 to 339\n",
      "Data columns (total 14 columns):\n",
      " #   Column             Non-Null Count  Dtype  \n",
      "---  ------             --------------  -----  \n",
      " 0   Entity             339 non-null    object \n",
      " 1   alternative name   136 non-null    object \n",
      " 2   records lost       338 non-null    object \n",
      " 3   YEAR               340 non-null    object \n",
      " 4   story              339 non-null    object \n",
      " 5   SECTOR             340 non-null    object \n",
      " 6   METHOD             340 non-null    object \n",
      " 7   interesting story  69 non-null     object \n",
      " 8   DATA SENSITIVITY   340 non-null    object \n",
      " 9   DISPLAYED RECORDS  33 non-null     object \n",
      " 10  Unnamed: 10        0 non-null      float64\n",
      " 11  source name        339 non-null    object \n",
      " 12  1st source link    339 non-null    object \n",
      " 13  2nd source link    32 non-null     object \n",
      "dtypes: float64(1), object(13)\n",
      "memory usage: 37.3+ KB\n"
     ]
    }
   ],
   "source": [
    "breach.info()"
   ]
  },
  {
   "cell_type": "code",
   "execution_count": 6,
   "id": "demonstrated-peter",
   "metadata": {},
   "outputs": [
    {
     "data": {
      "text/plain": [
       "0      NaN\n",
       "1      NaN\n",
       "2      NaN\n",
       "3      NaN\n",
       "4      NaN\n",
       "      ... \n",
       "335    NaN\n",
       "336    NaN\n",
       "337    NaN\n",
       "338    NaN\n",
       "339    NaN\n",
       "Name: 2nd source link, Length: 340, dtype: object"
      ]
     },
     "execution_count": 6,
     "metadata": {},
     "output_type": "execute_result"
    }
   ],
   "source": [
    "breach[\"2nd source link\"]"
   ]
  },
  {
   "cell_type": "code",
   "execution_count": 7,
   "id": "ranking-respect",
   "metadata": {},
   "outputs": [
    {
     "data": {
      "text/plain": [
       "Entity                 1\n",
       "alternative name     204\n",
       "records lost           2\n",
       "YEAR                   0\n",
       "story                  1\n",
       "SECTOR                 0\n",
       "METHOD                 0\n",
       "interesting story    271\n",
       "DATA SENSITIVITY       0\n",
       "DISPLAYED RECORDS    307\n",
       "Unnamed: 10          340\n",
       "source name            1\n",
       "1st source link        1\n",
       "2nd source link      308\n",
       "dtype: int64"
      ]
     },
     "execution_count": 7,
     "metadata": {},
     "output_type": "execute_result"
    }
   ],
   "source": [
    "len(breach) - breach.count()"
   ]
  },
  {
   "cell_type": "code",
   "execution_count": 8,
   "id": "afraid-blackberry",
   "metadata": {},
   "outputs": [
    {
     "data": {
      "text/plain": [
       "hacked                                                    214\n",
       "lost device                                                47\n",
       "poor security                                              39\n",
       "oops!                                                      20\n",
       "inside job                                                 19\n",
       "poor security\\nhacked\\noops!\\nlost device \\ninside job      1\n",
       "Name: METHOD, dtype: int64"
      ]
     },
     "execution_count": 8,
     "metadata": {},
     "output_type": "execute_result"
    }
   ],
   "source": [
    "breach.METHOD.value_counts()"
   ]
  },
  {
   "cell_type": "code",
   "execution_count": 9,
   "id": "interpreted-beijing",
   "metadata": {},
   "outputs": [
    {
     "data": {
      "text/plain": [
       "1"
      ]
     },
     "execution_count": 9,
     "metadata": {},
     "output_type": "execute_result"
    }
   ],
   "source": [
    "len(breach[\"story\"]) - breach[\"story\"].count()"
   ]
  },
  {
   "cell_type": "code",
   "execution_count": 10,
   "id": "impressive-elizabeth",
   "metadata": {},
   "outputs": [
    {
     "data": {
      "text/plain": [
       "Yahoo                                   3\n",
       "AOL                                     3\n",
       "Citigroup                               3\n",
       "Facebook                                3\n",
       "Amazon                                  2\n",
       "                                       ..\n",
       "CMS                                     1\n",
       "RockYou!                                1\n",
       "Health Net - IBM                        1\n",
       "Hannaford Brothers Supermarket Chain    1\n",
       "Urban Massage                           1\n",
       "Name: Entity, Length: 319, dtype: int64"
      ]
     },
     "execution_count": 10,
     "metadata": {},
     "output_type": "execute_result"
    }
   ],
   "source": [
    "breach[\"Entity\"].value_counts()"
   ]
  },
  {
   "cell_type": "code",
   "execution_count": 11,
   "id": "powered-conviction",
   "metadata": {},
   "outputs": [
    {
     "data": {
      "text/html": [
       "<div>\n",
       "<style scoped>\n",
       "    .dataframe tbody tr th:only-of-type {\n",
       "        vertical-align: middle;\n",
       "    }\n",
       "\n",
       "    .dataframe tbody tr th {\n",
       "        vertical-align: top;\n",
       "    }\n",
       "\n",
       "    .dataframe thead th {\n",
       "        text-align: right;\n",
       "    }\n",
       "</style>\n",
       "<table border=\"1\" class=\"dataframe\">\n",
       "  <thead>\n",
       "    <tr style=\"text-align: right;\">\n",
       "      <th></th>\n",
       "      <th>Entity</th>\n",
       "      <th>records lost</th>\n",
       "      <th>YEAR</th>\n",
       "      <th>SECTOR</th>\n",
       "      <th>METHOD</th>\n",
       "      <th>interesting story</th>\n",
       "      <th>DATA SENSITIVITY</th>\n",
       "      <th>source name</th>\n",
       "      <th>1st source link</th>\n",
       "    </tr>\n",
       "  </thead>\n",
       "  <tbody>\n",
       "    <tr>\n",
       "      <th>0</th>\n",
       "      <td>NaN</td>\n",
       "      <td>NaN</td>\n",
       "      <td>year story broke</td>\n",
       "      <td>web\\nhealthcare\\napp\\nretail\\ngaming\\ntranspor...</td>\n",
       "      <td>poor security\\nhacked\\noops!\\nlost device \\nin...</td>\n",
       "      <td>NaN</td>\n",
       "      <td>1. Just email address/Online information \\n2 S...</td>\n",
       "      <td>NaN</td>\n",
       "      <td>NaN</td>\n",
       "    </tr>\n",
       "    <tr>\n",
       "      <th>1</th>\n",
       "      <td>US Customs and Border Protection</td>\n",
       "      <td>100,000</td>\n",
       "      <td>2019</td>\n",
       "      <td>government</td>\n",
       "      <td>hacked</td>\n",
       "      <td>y</td>\n",
       "      <td>2</td>\n",
       "      <td>Washington Post</td>\n",
       "      <td>https://www.washingtonpost.com/technology/2019...</td>\n",
       "    </tr>\n",
       "    <tr>\n",
       "      <th>2</th>\n",
       "      <td>Click2Gov</td>\n",
       "      <td>300,000</td>\n",
       "      <td>2018</td>\n",
       "      <td>financial</td>\n",
       "      <td>hacked</td>\n",
       "      <td>NaN</td>\n",
       "      <td>3</td>\n",
       "      <td>Fortune</td>\n",
       "      <td>http://fortune.com/2018/12/18/click2gov-local-...</td>\n",
       "    </tr>\n",
       "    <tr>\n",
       "      <th>3</th>\n",
       "      <td>SingHealth</td>\n",
       "      <td>1,500,000</td>\n",
       "      <td>2018</td>\n",
       "      <td>healthcare</td>\n",
       "      <td>hacked</td>\n",
       "      <td>NaN</td>\n",
       "      <td>4</td>\n",
       "      <td>Straits Times</td>\n",
       "      <td>https://www.straitstimes.com/singapore/persona...</td>\n",
       "    </tr>\n",
       "    <tr>\n",
       "      <th>4</th>\n",
       "      <td>Quest Diagnostics</td>\n",
       "      <td>11,900,000</td>\n",
       "      <td>2019</td>\n",
       "      <td>healthcare</td>\n",
       "      <td>poor security</td>\n",
       "      <td>NaN</td>\n",
       "      <td>4</td>\n",
       "      <td>NBC News</td>\n",
       "      <td>https://www.nbcnewyork.com/news/local/Quest-Di...</td>\n",
       "    </tr>\n",
       "    <tr>\n",
       "      <th>5</th>\n",
       "      <td>Australian National University</td>\n",
       "      <td>200,000</td>\n",
       "      <td>2019</td>\n",
       "      <td>academic</td>\n",
       "      <td>hacked</td>\n",
       "      <td>NaN</td>\n",
       "      <td>4</td>\n",
       "      <td>Guardian</td>\n",
       "      <td>https://www.theguardian.com/australia-news/201...</td>\n",
       "    </tr>\n",
       "  </tbody>\n",
       "</table>\n",
       "</div>"
      ],
      "text/plain": [
       "                             Entity records lost              YEAR  \\\n",
       "0                               NaN          NaN  year story broke   \n",
       "1  US Customs and Border Protection      100,000              2019   \n",
       "2                         Click2Gov      300,000              2018   \n",
       "3                        SingHealth    1,500,000              2018   \n",
       "4                 Quest Diagnostics   11,900,000              2019   \n",
       "5    Australian National University      200,000              2019   \n",
       "\n",
       "                                              SECTOR  \\\n",
       "0  web\\nhealthcare\\napp\\nretail\\ngaming\\ntranspor...   \n",
       "1                                         government   \n",
       "2                                          financial   \n",
       "3                                         healthcare   \n",
       "4                                         healthcare   \n",
       "5                                           academic   \n",
       "\n",
       "                                              METHOD interesting story  \\\n",
       "0  poor security\\nhacked\\noops!\\nlost device \\nin...               NaN   \n",
       "1                                             hacked                 y   \n",
       "2                                             hacked               NaN   \n",
       "3                                             hacked               NaN   \n",
       "4                                      poor security               NaN   \n",
       "5                                             hacked               NaN   \n",
       "\n",
       "                                    DATA SENSITIVITY      source name  \\\n",
       "0  1. Just email address/Online information \\n2 S...              NaN   \n",
       "1                                                  2  Washington Post   \n",
       "2                                                  3          Fortune   \n",
       "3                                                  4    Straits Times   \n",
       "4                                                  4         NBC News   \n",
       "5                                                  4         Guardian   \n",
       "\n",
       "                                     1st source link  \n",
       "0                                                NaN  \n",
       "1  https://www.washingtonpost.com/technology/2019...  \n",
       "2  http://fortune.com/2018/12/18/click2gov-local-...  \n",
       "3  https://www.straitstimes.com/singapore/persona...  \n",
       "4  https://www.nbcnewyork.com/news/local/Quest-Di...  \n",
       "5  https://www.theguardian.com/australia-news/201...  "
      ]
     },
     "execution_count": 11,
     "metadata": {},
     "output_type": "execute_result"
    }
   ],
   "source": [
    "# Dropping \"alternative name\", \"story\", \"DISPLAYED RECORDS\", \"Unnamed: 10\", \"2nd source link\" columns\n",
    "breach.drop(labels=[\"alternative name\", \"story\", \"DISPLAYED RECORDS\",\n",
    "                   \"Unnamed: 10\", \"2nd source link\"], axis=1, inplace=True)\n",
    "breach.head(n=6)"
   ]
  },
  {
   "cell_type": "code",
   "execution_count": 12,
   "id": "breeding-annotation",
   "metadata": {},
   "outputs": [
    {
     "data": {
      "text/html": [
       "<div>\n",
       "<style scoped>\n",
       "    .dataframe tbody tr th:only-of-type {\n",
       "        vertical-align: middle;\n",
       "    }\n",
       "\n",
       "    .dataframe tbody tr th {\n",
       "        vertical-align: top;\n",
       "    }\n",
       "\n",
       "    .dataframe thead th {\n",
       "        text-align: right;\n",
       "    }\n",
       "</style>\n",
       "<table border=\"1\" class=\"dataframe\">\n",
       "  <thead>\n",
       "    <tr style=\"text-align: right;\">\n",
       "      <th></th>\n",
       "      <th>Entity</th>\n",
       "      <th>records lost</th>\n",
       "      <th>YEAR</th>\n",
       "      <th>SECTOR</th>\n",
       "      <th>METHOD</th>\n",
       "      <th>interesting story</th>\n",
       "      <th>DATA SENSITIVITY</th>\n",
       "      <th>source name</th>\n",
       "      <th>1st source link</th>\n",
       "    </tr>\n",
       "  </thead>\n",
       "  <tbody>\n",
       "    <tr>\n",
       "      <th>1</th>\n",
       "      <td>US Customs and Border Protection</td>\n",
       "      <td>100,000</td>\n",
       "      <td>2019</td>\n",
       "      <td>government</td>\n",
       "      <td>hacked</td>\n",
       "      <td>y</td>\n",
       "      <td>2</td>\n",
       "      <td>Washington Post</td>\n",
       "      <td>https://www.washingtonpost.com/technology/2019...</td>\n",
       "    </tr>\n",
       "    <tr>\n",
       "      <th>2</th>\n",
       "      <td>Click2Gov</td>\n",
       "      <td>300,000</td>\n",
       "      <td>2018</td>\n",
       "      <td>financial</td>\n",
       "      <td>hacked</td>\n",
       "      <td>NaN</td>\n",
       "      <td>3</td>\n",
       "      <td>Fortune</td>\n",
       "      <td>http://fortune.com/2018/12/18/click2gov-local-...</td>\n",
       "    </tr>\n",
       "    <tr>\n",
       "      <th>3</th>\n",
       "      <td>SingHealth</td>\n",
       "      <td>1,500,000</td>\n",
       "      <td>2018</td>\n",
       "      <td>healthcare</td>\n",
       "      <td>hacked</td>\n",
       "      <td>NaN</td>\n",
       "      <td>4</td>\n",
       "      <td>Straits Times</td>\n",
       "      <td>https://www.straitstimes.com/singapore/persona...</td>\n",
       "    </tr>\n",
       "    <tr>\n",
       "      <th>4</th>\n",
       "      <td>Quest Diagnostics</td>\n",
       "      <td>11,900,000</td>\n",
       "      <td>2019</td>\n",
       "      <td>healthcare</td>\n",
       "      <td>poor security</td>\n",
       "      <td>NaN</td>\n",
       "      <td>4</td>\n",
       "      <td>NBC News</td>\n",
       "      <td>https://www.nbcnewyork.com/news/local/Quest-Di...</td>\n",
       "    </tr>\n",
       "    <tr>\n",
       "      <th>5</th>\n",
       "      <td>Australian National University</td>\n",
       "      <td>200,000</td>\n",
       "      <td>2019</td>\n",
       "      <td>academic</td>\n",
       "      <td>hacked</td>\n",
       "      <td>NaN</td>\n",
       "      <td>4</td>\n",
       "      <td>Guardian</td>\n",
       "      <td>https://www.theguardian.com/australia-news/201...</td>\n",
       "    </tr>\n",
       "    <tr>\n",
       "      <th>6</th>\n",
       "      <td>Canva</td>\n",
       "      <td>139,000,000</td>\n",
       "      <td>2019</td>\n",
       "      <td>web</td>\n",
       "      <td>hacked</td>\n",
       "      <td>NaN</td>\n",
       "      <td>2</td>\n",
       "      <td>ZDNet</td>\n",
       "      <td>https://www.zdnet.com/article/australian-tech-...</td>\n",
       "    </tr>\n",
       "  </tbody>\n",
       "</table>\n",
       "</div>"
      ],
      "text/plain": [
       "                             Entity records lost  YEAR      SECTOR  \\\n",
       "1  US Customs and Border Protection      100,000  2019  government   \n",
       "2                         Click2Gov      300,000  2018   financial   \n",
       "3                        SingHealth    1,500,000  2018  healthcare   \n",
       "4                 Quest Diagnostics   11,900,000  2019  healthcare   \n",
       "5    Australian National University      200,000  2019    academic   \n",
       "6                             Canva  139,000,000  2019         web   \n",
       "\n",
       "          METHOD interesting story DATA SENSITIVITY      source name  \\\n",
       "1         hacked                 y                2  Washington Post   \n",
       "2         hacked               NaN                3          Fortune   \n",
       "3         hacked               NaN                4    Straits Times   \n",
       "4  poor security               NaN                4         NBC News   \n",
       "5         hacked               NaN                4         Guardian   \n",
       "6         hacked               NaN                2            ZDNet   \n",
       "\n",
       "                                     1st source link  \n",
       "1  https://www.washingtonpost.com/technology/2019...  \n",
       "2  http://fortune.com/2018/12/18/click2gov-local-...  \n",
       "3  https://www.straitstimes.com/singapore/persona...  \n",
       "4  https://www.nbcnewyork.com/news/local/Quest-Di...  \n",
       "5  https://www.theguardian.com/australia-news/201...  \n",
       "6  https://www.zdnet.com/article/australian-tech-...  "
      ]
     },
     "execution_count": 12,
     "metadata": {},
     "output_type": "execute_result"
    }
   ],
   "source": [
    "# Dropping the first row that doesn't have data\n",
    "breach.drop(labels=0, axis=0, inplace=True)\n",
    "breach.head(n=6)"
   ]
  },
  {
   "cell_type": "code",
   "execution_count": 13,
   "id": "bearing-durham",
   "metadata": {},
   "outputs": [
    {
     "data": {
      "text/plain": [
       "Index(['Entity', 'records lost', 'YEAR', 'SECTOR', 'METHOD',\n",
       "       'interesting story', 'DATA SENSITIVITY', 'source name',\n",
       "       '1st source link'],\n",
       "      dtype='object')"
      ]
     },
     "execution_count": 13,
     "metadata": {},
     "output_type": "execute_result"
    }
   ],
   "source": [
    "breach.columns"
   ]
  },
  {
   "cell_type": "code",
   "execution_count": 14,
   "id": "measured-wrestling",
   "metadata": {},
   "outputs": [
    {
     "data": {
      "text/html": [
       "<div>\n",
       "<style scoped>\n",
       "    .dataframe tbody tr th:only-of-type {\n",
       "        vertical-align: middle;\n",
       "    }\n",
       "\n",
       "    .dataframe tbody tr th {\n",
       "        vertical-align: top;\n",
       "    }\n",
       "\n",
       "    .dataframe thead th {\n",
       "        text-align: right;\n",
       "    }\n",
       "</style>\n",
       "<table border=\"1\" class=\"dataframe\">\n",
       "  <thead>\n",
       "    <tr style=\"text-align: right;\">\n",
       "      <th></th>\n",
       "      <th>Entity</th>\n",
       "      <th>records lost</th>\n",
       "      <th>YEAR</th>\n",
       "      <th>SECTOR</th>\n",
       "      <th>METHOD</th>\n",
       "      <th>interesting story</th>\n",
       "      <th>DATA SENSITIVITY</th>\n",
       "      <th>source name</th>\n",
       "      <th>1st source link</th>\n",
       "    </tr>\n",
       "  </thead>\n",
       "  <tbody>\n",
       "    <tr>\n",
       "      <th>1</th>\n",
       "      <td>US Customs and Border Protection</td>\n",
       "      <td>100,000</td>\n",
       "      <td>2019</td>\n",
       "      <td>government</td>\n",
       "      <td>hacked</td>\n",
       "      <td>y</td>\n",
       "      <td>2</td>\n",
       "      <td>Washington Post</td>\n",
       "      <td>https://www.washingtonpost.com/technology/2019...</td>\n",
       "    </tr>\n",
       "    <tr>\n",
       "      <th>2</th>\n",
       "      <td>Click2Gov</td>\n",
       "      <td>300,000</td>\n",
       "      <td>2018</td>\n",
       "      <td>financial</td>\n",
       "      <td>hacked</td>\n",
       "      <td>n</td>\n",
       "      <td>3</td>\n",
       "      <td>Fortune</td>\n",
       "      <td>http://fortune.com/2018/12/18/click2gov-local-...</td>\n",
       "    </tr>\n",
       "    <tr>\n",
       "      <th>3</th>\n",
       "      <td>SingHealth</td>\n",
       "      <td>1,500,000</td>\n",
       "      <td>2018</td>\n",
       "      <td>healthcare</td>\n",
       "      <td>hacked</td>\n",
       "      <td>n</td>\n",
       "      <td>4</td>\n",
       "      <td>Straits Times</td>\n",
       "      <td>https://www.straitstimes.com/singapore/persona...</td>\n",
       "    </tr>\n",
       "    <tr>\n",
       "      <th>4</th>\n",
       "      <td>Quest Diagnostics</td>\n",
       "      <td>11,900,000</td>\n",
       "      <td>2019</td>\n",
       "      <td>healthcare</td>\n",
       "      <td>poor security</td>\n",
       "      <td>n</td>\n",
       "      <td>4</td>\n",
       "      <td>NBC News</td>\n",
       "      <td>https://www.nbcnewyork.com/news/local/Quest-Di...</td>\n",
       "    </tr>\n",
       "    <tr>\n",
       "      <th>5</th>\n",
       "      <td>Australian National University</td>\n",
       "      <td>200,000</td>\n",
       "      <td>2019</td>\n",
       "      <td>academic</td>\n",
       "      <td>hacked</td>\n",
       "      <td>n</td>\n",
       "      <td>4</td>\n",
       "      <td>Guardian</td>\n",
       "      <td>https://www.theguardian.com/australia-news/201...</td>\n",
       "    </tr>\n",
       "    <tr>\n",
       "      <th>6</th>\n",
       "      <td>Canva</td>\n",
       "      <td>139,000,000</td>\n",
       "      <td>2019</td>\n",
       "      <td>web</td>\n",
       "      <td>hacked</td>\n",
       "      <td>n</td>\n",
       "      <td>2</td>\n",
       "      <td>ZDNet</td>\n",
       "      <td>https://www.zdnet.com/article/australian-tech-...</td>\n",
       "    </tr>\n",
       "  </tbody>\n",
       "</table>\n",
       "</div>"
      ],
      "text/plain": [
       "                             Entity records lost  YEAR      SECTOR  \\\n",
       "1  US Customs and Border Protection      100,000  2019  government   \n",
       "2                         Click2Gov      300,000  2018   financial   \n",
       "3                        SingHealth    1,500,000  2018  healthcare   \n",
       "4                 Quest Diagnostics   11,900,000  2019  healthcare   \n",
       "5    Australian National University      200,000  2019    academic   \n",
       "6                             Canva  139,000,000  2019         web   \n",
       "\n",
       "          METHOD interesting story DATA SENSITIVITY      source name  \\\n",
       "1         hacked                 y                2  Washington Post   \n",
       "2         hacked                 n                3          Fortune   \n",
       "3         hacked                 n                4    Straits Times   \n",
       "4  poor security                 n                4         NBC News   \n",
       "5         hacked                 n                4         Guardian   \n",
       "6         hacked                 n                2            ZDNet   \n",
       "\n",
       "                                     1st source link  \n",
       "1  https://www.washingtonpost.com/technology/2019...  \n",
       "2  http://fortune.com/2018/12/18/click2gov-local-...  \n",
       "3  https://www.straitstimes.com/singapore/persona...  \n",
       "4  https://www.nbcnewyork.com/news/local/Quest-Di...  \n",
       "5  https://www.theguardian.com/australia-news/201...  \n",
       "6  https://www.zdnet.com/article/australian-tech-...  "
      ]
     },
     "execution_count": 14,
     "metadata": {},
     "output_type": "execute_result"
    }
   ],
   "source": [
    "breach[\"interesting story\"].fillna(value=\"n\", inplace=True)\n",
    "breach.head(n=6)"
   ]
  },
  {
   "cell_type": "code",
   "execution_count": 15,
   "id": "flush-presentation",
   "metadata": {},
   "outputs": [],
   "source": [
    "breach[\"records lost\"].fillna(value=0, inplace=True)"
   ]
  },
  {
   "cell_type": "code",
   "execution_count": 16,
   "id": "above-lloyd",
   "metadata": {},
   "outputs": [
    {
     "name": "stdout",
     "output_type": "stream",
     "text": [
      "<class 'pandas.core.frame.DataFrame'>\n",
      "Int64Index: 339 entries, 1 to 339\n",
      "Data columns (total 9 columns):\n",
      " #   Column             Non-Null Count  Dtype \n",
      "---  ------             --------------  ----- \n",
      " 0   Entity             339 non-null    object\n",
      " 1   records lost       339 non-null    object\n",
      " 2   YEAR               339 non-null    object\n",
      " 3   SECTOR             339 non-null    object\n",
      " 4   METHOD             339 non-null    object\n",
      " 5   interesting story  339 non-null    object\n",
      " 6   DATA SENSITIVITY   339 non-null    object\n",
      " 7   source name        339 non-null    object\n",
      " 8   1st source link    339 non-null    object\n",
      "dtypes: object(9)\n",
      "memory usage: 26.5+ KB\n"
     ]
    }
   ],
   "source": [
    "breach.info()"
   ]
  },
  {
   "cell_type": "code",
   "execution_count": 17,
   "id": "municipal-alfred",
   "metadata": {},
   "outputs": [
    {
     "data": {
      "text/html": [
       "<div>\n",
       "<style scoped>\n",
       "    .dataframe tbody tr th:only-of-type {\n",
       "        vertical-align: middle;\n",
       "    }\n",
       "\n",
       "    .dataframe tbody tr th {\n",
       "        vertical-align: top;\n",
       "    }\n",
       "\n",
       "    .dataframe thead th {\n",
       "        text-align: right;\n",
       "    }\n",
       "</style>\n",
       "<table border=\"1\" class=\"dataframe\">\n",
       "  <thead>\n",
       "    <tr style=\"text-align: right;\">\n",
       "      <th></th>\n",
       "      <th>Entity</th>\n",
       "      <th>Records Lost</th>\n",
       "      <th>Year</th>\n",
       "      <th>Sector</th>\n",
       "      <th>Method</th>\n",
       "      <th>Interesting Stroy</th>\n",
       "      <th>Data Sensitivity</th>\n",
       "      <th>Source Name</th>\n",
       "      <th>1st Source Link</th>\n",
       "    </tr>\n",
       "  </thead>\n",
       "  <tbody>\n",
       "    <tr>\n",
       "      <th>1</th>\n",
       "      <td>US Customs and Border Protection</td>\n",
       "      <td>100,000</td>\n",
       "      <td>2019</td>\n",
       "      <td>government</td>\n",
       "      <td>hacked</td>\n",
       "      <td>y</td>\n",
       "      <td>2</td>\n",
       "      <td>Washington Post</td>\n",
       "      <td>https://www.washingtonpost.com/technology/2019...</td>\n",
       "    </tr>\n",
       "    <tr>\n",
       "      <th>2</th>\n",
       "      <td>Click2Gov</td>\n",
       "      <td>300,000</td>\n",
       "      <td>2018</td>\n",
       "      <td>financial</td>\n",
       "      <td>hacked</td>\n",
       "      <td>n</td>\n",
       "      <td>3</td>\n",
       "      <td>Fortune</td>\n",
       "      <td>http://fortune.com/2018/12/18/click2gov-local-...</td>\n",
       "    </tr>\n",
       "    <tr>\n",
       "      <th>3</th>\n",
       "      <td>SingHealth</td>\n",
       "      <td>1,500,000</td>\n",
       "      <td>2018</td>\n",
       "      <td>healthcare</td>\n",
       "      <td>hacked</td>\n",
       "      <td>n</td>\n",
       "      <td>4</td>\n",
       "      <td>Straits Times</td>\n",
       "      <td>https://www.straitstimes.com/singapore/persona...</td>\n",
       "    </tr>\n",
       "    <tr>\n",
       "      <th>4</th>\n",
       "      <td>Quest Diagnostics</td>\n",
       "      <td>11,900,000</td>\n",
       "      <td>2019</td>\n",
       "      <td>healthcare</td>\n",
       "      <td>poor security</td>\n",
       "      <td>n</td>\n",
       "      <td>4</td>\n",
       "      <td>NBC News</td>\n",
       "      <td>https://www.nbcnewyork.com/news/local/Quest-Di...</td>\n",
       "    </tr>\n",
       "    <tr>\n",
       "      <th>5</th>\n",
       "      <td>Australian National University</td>\n",
       "      <td>200,000</td>\n",
       "      <td>2019</td>\n",
       "      <td>academic</td>\n",
       "      <td>hacked</td>\n",
       "      <td>n</td>\n",
       "      <td>4</td>\n",
       "      <td>Guardian</td>\n",
       "      <td>https://www.theguardian.com/australia-news/201...</td>\n",
       "    </tr>\n",
       "    <tr>\n",
       "      <th>6</th>\n",
       "      <td>Canva</td>\n",
       "      <td>139,000,000</td>\n",
       "      <td>2019</td>\n",
       "      <td>web</td>\n",
       "      <td>hacked</td>\n",
       "      <td>n</td>\n",
       "      <td>2</td>\n",
       "      <td>ZDNet</td>\n",
       "      <td>https://www.zdnet.com/article/australian-tech-...</td>\n",
       "    </tr>\n",
       "  </tbody>\n",
       "</table>\n",
       "</div>"
      ],
      "text/plain": [
       "                             Entity Records Lost  Year      Sector  \\\n",
       "1  US Customs and Border Protection      100,000  2019  government   \n",
       "2                         Click2Gov      300,000  2018   financial   \n",
       "3                        SingHealth    1,500,000  2018  healthcare   \n",
       "4                 Quest Diagnostics   11,900,000  2019  healthcare   \n",
       "5    Australian National University      200,000  2019    academic   \n",
       "6                             Canva  139,000,000  2019         web   \n",
       "\n",
       "          Method Interesting Stroy Data Sensitivity      Source Name  \\\n",
       "1         hacked                 y                2  Washington Post   \n",
       "2         hacked                 n                3          Fortune   \n",
       "3         hacked                 n                4    Straits Times   \n",
       "4  poor security                 n                4         NBC News   \n",
       "5         hacked                 n                4         Guardian   \n",
       "6         hacked                 n                2            ZDNet   \n",
       "\n",
       "                                     1st Source Link  \n",
       "1  https://www.washingtonpost.com/technology/2019...  \n",
       "2  http://fortune.com/2018/12/18/click2gov-local-...  \n",
       "3  https://www.straitstimes.com/singapore/persona...  \n",
       "4  https://www.nbcnewyork.com/news/local/Quest-Di...  \n",
       "5  https://www.theguardian.com/australia-news/201...  \n",
       "6  https://www.zdnet.com/article/australian-tech-...  "
      ]
     },
     "execution_count": 17,
     "metadata": {},
     "output_type": "execute_result"
    }
   ],
   "source": [
    "breach.columns = [\"Entity\", \"Records Lost\", \"Year\", \"Sector\", \"Method\", \"Interesting Stroy\", \"Data Sensitivity\",\n",
    "                 \"Source Name\", \"1st Source Link\"]\n",
    "breach.head(n=6)"
   ]
  },
  {
   "cell_type": "code",
   "execution_count": 18,
   "id": "grateful-ready",
   "metadata": {},
   "outputs": [],
   "source": [
    "# Replacing \",\" to \"\" in the \"Records Lost\" column \n",
    "breach['Records Lost'] = breach['Records Lost'].str.replace(\",\", \"\")"
   ]
  },
  {
   "cell_type": "code",
   "execution_count": 19,
   "id": "prepared-discount",
   "metadata": {},
   "outputs": [],
   "source": [
    "# Replacing \"3M\" to \"3000000\" in the \"Records Lost\" column \n",
    "breach[\"Records Lost\"].replace(to_replace=\"3M\", value=\"3000000\", inplace=True)"
   ]
  },
  {
   "cell_type": "code",
   "execution_count": 20,
   "id": "parental-satellite",
   "metadata": {},
   "outputs": [],
   "source": [
    "# Replacing \"10M\" to \"10000000\" in the \"Records Lost\" column \n",
    "breach[\"Records Lost\"].replace(to_replace=\"10M\", value=\"10000000\", inplace=True)"
   ]
  },
  {
   "cell_type": "code",
   "execution_count": 21,
   "id": "induced-revelation",
   "metadata": {},
   "outputs": [],
   "source": [
    "# Replacing \",\" to \"\" in the \"Records Lost\" column \n",
    "breach['Records Lost'] = breach['Records Lost'].str.replace(\",\", \"\")"
   ]
  },
  {
   "cell_type": "code",
   "execution_count": 22,
   "id": "demographic-gender",
   "metadata": {},
   "outputs": [
    {
     "data": {
      "text/plain": [
       "RangeIndex(start=0, stop=339, step=1)"
      ]
     },
     "execution_count": 22,
     "metadata": {},
     "output_type": "execute_result"
    }
   ],
   "source": [
    "# Resetting the Index\n",
    "breach.reset_index(drop=True, inplace=True)\n",
    "breach.index"
   ]
  },
  {
   "cell_type": "code",
   "execution_count": 23,
   "id": "invisible-bonus",
   "metadata": {},
   "outputs": [],
   "source": [
    "# Replacing \"<\" to \"\" in the \"Records Lost\" column \n",
    "breach['Records Lost'] = breach['Records Lost'].str.replace(\"<\", \"\")"
   ]
  },
  {
   "cell_type": "code",
   "execution_count": 24,
   "id": "familiar-purse",
   "metadata": {},
   "outputs": [
    {
     "data": {
      "text/html": [
       "<div>\n",
       "<style scoped>\n",
       "    .dataframe tbody tr th:only-of-type {\n",
       "        vertical-align: middle;\n",
       "    }\n",
       "\n",
       "    .dataframe tbody tr th {\n",
       "        vertical-align: top;\n",
       "    }\n",
       "\n",
       "    .dataframe thead th {\n",
       "        text-align: right;\n",
       "    }\n",
       "</style>\n",
       "<table border=\"1\" class=\"dataframe\">\n",
       "  <thead>\n",
       "    <tr style=\"text-align: right;\">\n",
       "      <th></th>\n",
       "      <th>Entity</th>\n",
       "      <th>Records Lost</th>\n",
       "      <th>Year</th>\n",
       "      <th>Sector</th>\n",
       "      <th>Method</th>\n",
       "      <th>Interesting Stroy</th>\n",
       "      <th>Data Sensitivity</th>\n",
       "      <th>Source Name</th>\n",
       "      <th>1st Source Link</th>\n",
       "    </tr>\n",
       "  </thead>\n",
       "  <tbody>\n",
       "    <tr>\n",
       "      <th>15</th>\n",
       "      <td>Animoto</td>\n",
       "      <td>ALL</td>\n",
       "      <td>2019</td>\n",
       "      <td>app</td>\n",
       "      <td>hacked</td>\n",
       "      <td>n</td>\n",
       "      <td>7</td>\n",
       "      <td>The Register</td>\n",
       "      <td>https://www.theregister.co.uk/2019/02/11/620_m...</td>\n",
       "    </tr>\n",
       "    <tr>\n",
       "      <th>22</th>\n",
       "      <td>CoffeeMeetsBagel</td>\n",
       "      <td>ALL</td>\n",
       "      <td>2019</td>\n",
       "      <td>web</td>\n",
       "      <td>hacked</td>\n",
       "      <td>n</td>\n",
       "      <td>1</td>\n",
       "      <td>The Register</td>\n",
       "      <td>https://www.theregister.co.uk/2019/02/11/620_m...</td>\n",
       "    </tr>\n",
       "    <tr>\n",
       "      <th>32</th>\n",
       "      <td>Petflow</td>\n",
       "      <td>ALL</td>\n",
       "      <td>2019</td>\n",
       "      <td>retail</td>\n",
       "      <td>poor security</td>\n",
       "      <td>n</td>\n",
       "      <td>1</td>\n",
       "      <td>Techcrunch</td>\n",
       "      <td>https://techcrunch.com/2019/02/14/hacker-strik...</td>\n",
       "    </tr>\n",
       "  </tbody>\n",
       "</table>\n",
       "</div>"
      ],
      "text/plain": [
       "              Entity Records Lost  Year  Sector         Method  \\\n",
       "15           Animoto          ALL  2019     app         hacked   \n",
       "22  CoffeeMeetsBagel          ALL  2019     web         hacked   \n",
       "32           Petflow          ALL  2019  retail  poor security   \n",
       "\n",
       "   Interesting Stroy Data Sensitivity   Source Name  \\\n",
       "15                 n                7  The Register   \n",
       "22                 n                1  The Register   \n",
       "32                 n                1    Techcrunch   \n",
       "\n",
       "                                      1st Source Link  \n",
       "15  https://www.theregister.co.uk/2019/02/11/620_m...  \n",
       "22  https://www.theregister.co.uk/2019/02/11/620_m...  \n",
       "32  https://techcrunch.com/2019/02/14/hacker-strik...  "
      ]
     },
     "execution_count": 24,
     "metadata": {},
     "output_type": "execute_result"
    }
   ],
   "source": [
    "condition1 = breach[\"Records Lost\"] == \"ALL\"\n",
    "breach[condition1]"
   ]
  },
  {
   "cell_type": "code",
   "execution_count": 25,
   "id": "corresponding-clinton",
   "metadata": {},
   "outputs": [],
   "source": [
    "# Dropping \"ALL\" string in the \"Records Lost\" column\n",
    "breach.drop(labels=[15, 22, 32], axis=0, inplace=True)"
   ]
  },
  {
   "cell_type": "code",
   "execution_count": 26,
   "id": "infrared-means",
   "metadata": {},
   "outputs": [],
   "source": [
    "# Filling 0 to NAN in the \"Records Lost\" column\n",
    "breach[\"Records Lost\"].fillna(value=0, inplace=True)"
   ]
  },
  {
   "cell_type": "code",
   "execution_count": 27,
   "id": "tough-denial",
   "metadata": {},
   "outputs": [],
   "source": [
    "# Changing the column \"Records Lost\" to float\n",
    "breach[\"Records Lost\"] = breach[\"Records Lost\"].astype(dtype=\"float64\")"
   ]
  },
  {
   "cell_type": "code",
   "execution_count": 28,
   "id": "fifth-interference",
   "metadata": {},
   "outputs": [],
   "source": [
    "# Changing the column \"Year\" to date\n",
    "breach[\"Year\"] = breach[\"Year\"].astype(dtype=\"int32\")"
   ]
  },
  {
   "cell_type": "code",
   "execution_count": 29,
   "id": "classified-curve",
   "metadata": {},
   "outputs": [],
   "source": [
    "# Categorizing the column \"Entity\"\n",
    "breach[\"Entity\"] = breach[\"Entity\"].astype(dtype=\"category\")"
   ]
  },
  {
   "cell_type": "code",
   "execution_count": 30,
   "id": "contemporary-salvation",
   "metadata": {},
   "outputs": [],
   "source": [
    "# Categorizing the column \"Sector\"\n",
    "breach[\"Sector\"] = breach[\"Sector\"].astype(dtype=\"category\")"
   ]
  },
  {
   "cell_type": "code",
   "execution_count": 31,
   "id": "trained-roman",
   "metadata": {},
   "outputs": [],
   "source": [
    "# Categorizing the column \"Method\"\n",
    "breach[\"Method\"] = breach[\"Method\"].astype(dtype=\"category\")"
   ]
  },
  {
   "cell_type": "code",
   "execution_count": 32,
   "id": "social-coordination",
   "metadata": {},
   "outputs": [],
   "source": [
    "# Categorizing the column \"Data Sensitivity\"\n",
    "breach[\"Data Sensitivity\"] = breach[\"Data Sensitivity\"].astype(dtype=\"category\")"
   ]
  },
  {
   "cell_type": "code",
   "execution_count": 33,
   "id": "stretch-classics",
   "metadata": {},
   "outputs": [],
   "source": [
    "# Categorizing the column \"Data Sensitivity\"\n",
    "breach[\"Source Name\"] = breach[\"Source Name\"].astype(dtype=\"category\")"
   ]
  },
  {
   "cell_type": "code",
   "execution_count": 34,
   "id": "excellent-rider",
   "metadata": {},
   "outputs": [
    {
     "name": "stdout",
     "output_type": "stream",
     "text": [
      "<class 'pandas.core.frame.DataFrame'>\n",
      "Int64Index: 336 entries, 0 to 338\n",
      "Data columns (total 9 columns):\n",
      " #   Column             Non-Null Count  Dtype   \n",
      "---  ------             --------------  -----   \n",
      " 0   Entity             336 non-null    category\n",
      " 1   Records Lost       336 non-null    float64 \n",
      " 2   Year               336 non-null    int32   \n",
      " 3   Sector             336 non-null    category\n",
      " 4   Method             336 non-null    category\n",
      " 5   Interesting Stroy  336 non-null    object  \n",
      " 6   Data Sensitivity   336 non-null    category\n",
      " 7   Source Name        336 non-null    category\n",
      " 8   1st Source Link    336 non-null    object  \n",
      "dtypes: category(5), float64(1), int32(1), object(2)\n",
      "memory usage: 31.2+ KB\n"
     ]
    }
   ],
   "source": [
    "breach.info()"
   ]
  },
  {
   "cell_type": "code",
   "execution_count": 35,
   "id": "satellite-newark",
   "metadata": {},
   "outputs": [
    {
     "data": {
      "text/plain": [
       "array([1, 0])"
      ]
     },
     "execution_count": 35,
     "metadata": {},
     "output_type": "execute_result"
    }
   ],
   "source": [
    "# label_encoder object knows how to understand word labels. \n",
    "label_encoder = preprocessing.LabelEncoder() \n",
    "  \n",
    "# Encode labels in column 'Interesting Stroy'. \n",
    "breach['Interesting Stroy']= label_encoder.fit_transform(breach['Interesting Stroy']) \n",
    "  \n",
    "breach['Interesting Stroy'].unique() "
   ]
  },
  {
   "cell_type": "code",
   "execution_count": 36,
   "id": "micro-theology",
   "metadata": {},
   "outputs": [],
   "source": [
    "breach[\"Interesting Stroy\"] = breach[\"Interesting Stroy\"].astype(dtype=\"category\")"
   ]
  },
  {
   "cell_type": "code",
   "execution_count": 37,
   "id": "unable-bookmark",
   "metadata": {},
   "outputs": [
    {
     "data": {
      "text/plain": [
       "0      1\n",
       "1      0\n",
       "2      0\n",
       "3      0\n",
       "4      0\n",
       "      ..\n",
       "334    1\n",
       "335    0\n",
       "336    1\n",
       "337    1\n",
       "338    0\n",
       "Name: Interesting Stroy, Length: 336, dtype: category\n",
       "Categories (2, int64): [0, 1]"
      ]
     },
     "execution_count": 37,
     "metadata": {},
     "output_type": "execute_result"
    }
   ],
   "source": [
    "breach[\"Interesting Stroy\"]"
   ]
  },
  {
   "cell_type": "markdown",
   "id": "sexual-firmware",
   "metadata": {},
   "source": [
    "# Data Visualization"
   ]
  },
  {
   "cell_type": "code",
   "execution_count": 38,
   "id": "copyrighted-support",
   "metadata": {},
   "outputs": [
    {
     "name": "stdout",
     "output_type": "stream",
     "text": [
      "<class 'pandas.core.frame.DataFrame'>\n",
      "Int64Index: 336 entries, 0 to 338\n",
      "Data columns (total 9 columns):\n",
      " #   Column             Non-Null Count  Dtype   \n",
      "---  ------             --------------  -----   \n",
      " 0   Entity             336 non-null    category\n",
      " 1   Records Lost       336 non-null    float64 \n",
      " 2   Year               336 non-null    int32   \n",
      " 3   Sector             336 non-null    category\n",
      " 4   Method             336 non-null    category\n",
      " 5   Interesting Stroy  336 non-null    category\n",
      " 6   Data Sensitivity   336 non-null    category\n",
      " 7   Source Name        336 non-null    category\n",
      " 8   1st Source Link    336 non-null    object  \n",
      "dtypes: category(6), float64(1), int32(1), object(1)\n",
      "memory usage: 29.0+ KB\n"
     ]
    }
   ],
   "source": [
    "breach.info()"
   ]
  },
  {
   "cell_type": "code",
   "execution_count": 39,
   "id": "second-denial",
   "metadata": {},
   "outputs": [],
   "source": [
    "# Group by the Entity\n",
    "Entity_Group = breach.groupby(by=[\"Entity\"], axis=0)"
   ]
  },
  {
   "cell_type": "code",
   "execution_count": 40,
   "id": "prepared-interim",
   "metadata": {},
   "outputs": [],
   "source": [
    "top10_Entity = Entity_Group.sum()[\"Records Lost\"].sort_values(ascending=False).head(n=10)"
   ]
  },
  {
   "cell_type": "code",
   "execution_count": 41,
   "id": "changing-classics",
   "metadata": {},
   "outputs": [
    {
     "data": {
      "text/html": [
       "<div>\n",
       "<style scoped>\n",
       "    .dataframe tbody tr th:only-of-type {\n",
       "        vertical-align: middle;\n",
       "    }\n",
       "\n",
       "    .dataframe tbody tr th {\n",
       "        vertical-align: top;\n",
       "    }\n",
       "\n",
       "    .dataframe thead th {\n",
       "        text-align: right;\n",
       "    }\n",
       "</style>\n",
       "<table border=\"1\" class=\"dataframe\">\n",
       "  <thead>\n",
       "    <tr style=\"text-align: right;\">\n",
       "      <th></th>\n",
       "      <th>Records Lost</th>\n",
       "    </tr>\n",
       "    <tr>\n",
       "      <th>Entity</th>\n",
       "      <th></th>\n",
       "    </tr>\n",
       "  </thead>\n",
       "  <tbody>\n",
       "    <tr>\n",
       "      <th>Aadhaar</th>\n",
       "      <td>2.100000e+09</td>\n",
       "    </tr>\n",
       "    <tr>\n",
       "      <th>Yahoo</th>\n",
       "      <td>1.532000e+09</td>\n",
       "    </tr>\n",
       "    <tr>\n",
       "      <th>River City Media</th>\n",
       "      <td>1.370000e+09</td>\n",
       "    </tr>\n",
       "    <tr>\n",
       "      <th>First American Financial Corporation</th>\n",
       "      <td>8.850000e+08</td>\n",
       "    </tr>\n",
       "    <tr>\n",
       "      <th>Spambot</th>\n",
       "      <td>7.110000e+08</td>\n",
       "    </tr>\n",
       "    <tr>\n",
       "      <th>Friend Finder Network</th>\n",
       "      <td>4.120000e+08</td>\n",
       "    </tr>\n",
       "    <tr>\n",
       "      <th>Marriott Hotels</th>\n",
       "      <td>3.830000e+08</td>\n",
       "    </tr>\n",
       "    <tr>\n",
       "      <th>Twitter</th>\n",
       "      <td>3.302500e+08</td>\n",
       "    </tr>\n",
       "    <tr>\n",
       "      <th>Chinese resume leak</th>\n",
       "      <td>2.020000e+08</td>\n",
       "    </tr>\n",
       "    <tr>\n",
       "      <th>Court Ventures</th>\n",
       "      <td>2.000000e+08</td>\n",
       "    </tr>\n",
       "  </tbody>\n",
       "</table>\n",
       "</div>"
      ],
      "text/plain": [
       "                                      Records Lost\n",
       "Entity                                            \n",
       "Aadhaar                               2.100000e+09\n",
       "Yahoo                                 1.532000e+09\n",
       "River City Media                      1.370000e+09\n",
       "First American Financial Corporation  8.850000e+08\n",
       "Spambot                               7.110000e+08\n",
       "Friend Finder Network                 4.120000e+08\n",
       "Marriott Hotels                       3.830000e+08\n",
       "Twitter                               3.302500e+08\n",
       "Chinese resume leak                   2.020000e+08\n",
       "Court Ventures                        2.000000e+08"
      ]
     },
     "execution_count": 41,
     "metadata": {},
     "output_type": "execute_result"
    }
   ],
   "source": [
    "top10_Entity.to_frame()"
   ]
  },
  {
   "cell_type": "code",
   "execution_count": 42,
   "id": "baking-medline",
   "metadata": {},
   "outputs": [
    {
     "data": {
      "text/plain": [
       "Text(0, 0.5, 'Company Name')"
      ]
     },
     "execution_count": 42,
     "metadata": {},
     "output_type": "execute_result"
    },
    {
     "data": {
      "image/png": "[encoded data removed]",
      "text/plain": [
       "<Figure size 1080x720 with 1 Axes>"
      ]
     },
     "metadata": {
      "needs_background": "light"
     },
     "output_type": "display_data"
    }
   ],
   "source": [
    "top10_Entity.plot(kind=\"barh\", figsize=(15, 10))\n",
    "plt.title(\"The Top 10 Companies Who Lost Most of Records\")\n",
    "plt.xlabel(xlabel=\"Billion\", fontsize=17)\n",
    "plt.ylabel(ylabel=\"Company Name\", fontsize=17)"
   ]
  },
  {
   "cell_type": "code",
   "execution_count": 43,
   "id": "retired-packet",
   "metadata": {},
   "outputs": [],
   "source": [
    "# Group by the Sector\n",
    "Sector_Group = breach.groupby(by=[\"Sector\"], axis=0)"
   ]
  },
  {
   "cell_type": "code",
   "execution_count": 44,
   "id": "difficult-arctic",
   "metadata": {},
   "outputs": [],
   "source": [
    "top5_Sector = Sector_Group.sum()[\"Records Lost\"].sort_values(ascending=False).head(n=5)"
   ]
  },
  {
   "cell_type": "code",
   "execution_count": 45,
   "id": "ancient-edgar",
   "metadata": {},
   "outputs": [
    {
     "data": {
      "text/html": [
       "<div>\n",
       "<style scoped>\n",
       "    .dataframe tbody tr th:only-of-type {\n",
       "        vertical-align: middle;\n",
       "    }\n",
       "\n",
       "    .dataframe tbody tr th {\n",
       "        vertical-align: top;\n",
       "    }\n",
       "\n",
       "    .dataframe thead th {\n",
       "        text-align: right;\n",
       "    }\n",
       "</style>\n",
       "<table border=\"1\" class=\"dataframe\">\n",
       "  <thead>\n",
       "    <tr style=\"text-align: right;\">\n",
       "      <th></th>\n",
       "      <th>Records Lost</th>\n",
       "    </tr>\n",
       "    <tr>\n",
       "      <th>Sector</th>\n",
       "      <th></th>\n",
       "    </tr>\n",
       "  </thead>\n",
       "  <tbody>\n",
       "    <tr>\n",
       "      <th>web</th>\n",
       "      <td>6.795647e+09</td>\n",
       "    </tr>\n",
       "    <tr>\n",
       "      <th>government</th>\n",
       "      <td>2.318627e+09</td>\n",
       "    </tr>\n",
       "    <tr>\n",
       "      <th>financial</th>\n",
       "      <td>1.738829e+09</td>\n",
       "    </tr>\n",
       "    <tr>\n",
       "      <th>app</th>\n",
       "      <td>1.010149e+09</td>\n",
       "    </tr>\n",
       "    <tr>\n",
       "      <th>retail</th>\n",
       "      <td>8.044784e+08</td>\n",
       "    </tr>\n",
       "  </tbody>\n",
       "</table>\n",
       "</div>"
      ],
      "text/plain": [
       "            Records Lost\n",
       "Sector                  \n",
       "web         6.795647e+09\n",
       "government  2.318627e+09\n",
       "financial   1.738829e+09\n",
       "app         1.010149e+09\n",
       "retail      8.044784e+08"
      ]
     },
     "execution_count": 45,
     "metadata": {},
     "output_type": "execute_result"
    }
   ],
   "source": [
    "top5_Sector.to_frame()"
   ]
  },
  {
   "cell_type": "code",
   "execution_count": 46,
   "id": "utility-casino",
   "metadata": {},
   "outputs": [
    {
     "data": {
      "text/plain": [
       "Text(0.5, 0, 'Sector Name')"
      ]
     },
     "execution_count": 46,
     "metadata": {},
     "output_type": "execute_result"
    },
    {
     "data": {
      "image/png": "[encoded data removed]",
      "text/plain": [
       "<Figure size 1080x720 with 1 Axes>"
      ]
     },
     "metadata": {
      "needs_background": "light"
     },
     "output_type": "display_data"
    }
   ],
   "source": [
    "top5_Sector.plot(kind=\"bar\", figsize=(15, 10), color=\"#2a9d8f\")\n",
    "plt.title(\"The Top 10 Sectors that Lost Most of Records\")\n",
    "plt.ylabel(ylabel=\"Billion\", fontsize=17)\n",
    "plt.xlabel(xlabel=\"Sector Name\", fontsize=17)"
   ]
  },
  {
   "cell_type": "code",
   "execution_count": 47,
   "id": "patent-textbook",
   "metadata": {},
   "outputs": [],
   "source": [
    "# Group by the Method\n",
    "Method_Group = breach.groupby(by=[\"Method\"], axis=0)"
   ]
  },
  {
   "cell_type": "code",
   "execution_count": 48,
   "id": "processed-negotiation",
   "metadata": {},
   "outputs": [],
   "source": [
    "Method = Method_Group.sum()[\"Records Lost\"]"
   ]
  },
  {
   "cell_type": "code",
   "execution_count": 49,
   "id": "minus-share",
   "metadata": {},
   "outputs": [
    {
     "data": {
      "text/html": [
       "<div>\n",
       "<style scoped>\n",
       "    .dataframe tbody tr th:only-of-type {\n",
       "        vertical-align: middle;\n",
       "    }\n",
       "\n",
       "    .dataframe tbody tr th {\n",
       "        vertical-align: top;\n",
       "    }\n",
       "\n",
       "    .dataframe thead th {\n",
       "        text-align: right;\n",
       "    }\n",
       "</style>\n",
       "<table border=\"1\" class=\"dataframe\">\n",
       "  <thead>\n",
       "    <tr style=\"text-align: right;\">\n",
       "      <th></th>\n",
       "      <th>Records Lost</th>\n",
       "    </tr>\n",
       "    <tr>\n",
       "      <th>Method</th>\n",
       "      <th></th>\n",
       "    </tr>\n",
       "  </thead>\n",
       "  <tbody>\n",
       "    <tr>\n",
       "      <th>hacked</th>\n",
       "      <td>6.477003e+09</td>\n",
       "    </tr>\n",
       "    <tr>\n",
       "      <th>inside job</th>\n",
       "      <td>3.608414e+08</td>\n",
       "    </tr>\n",
       "    <tr>\n",
       "      <th>lost device</th>\n",
       "      <td>2.158752e+08</td>\n",
       "    </tr>\n",
       "    <tr>\n",
       "      <th>oops!</th>\n",
       "      <td>2.442315e+09</td>\n",
       "    </tr>\n",
       "    <tr>\n",
       "      <th>poor security</th>\n",
       "      <td>4.052873e+09</td>\n",
       "    </tr>\n",
       "  </tbody>\n",
       "</table>\n",
       "</div>"
      ],
      "text/plain": [
       "               Records Lost\n",
       "Method                     \n",
       "hacked         6.477003e+09\n",
       "inside job     3.608414e+08\n",
       "lost device    2.158752e+08\n",
       "oops!          2.442315e+09\n",
       "poor security  4.052873e+09"
      ]
     },
     "execution_count": 49,
     "metadata": {},
     "output_type": "execute_result"
    }
   ],
   "source": [
    "Method.to_frame()"
   ]
  },
  {
   "cell_type": "code",
   "execution_count": 50,
   "id": "informative-scroll",
   "metadata": {},
   "outputs": [
    {
     "data": {
      "text/plain": [
       "CategoricalIndex(['hacked', 'inside job', 'lost device ', 'oops!',\n",
       "                  'poor security'],\n",
       "                 categories=['hacked', 'inside job', 'lost device ', 'oops!', 'poor security'], ordered=False, name='Method', dtype='category')"
      ]
     },
     "execution_count": 50,
     "metadata": {},
     "output_type": "execute_result"
    }
   ],
   "source": [
    "Method.to_frame().index"
   ]
  },
  {
   "cell_type": "code",
   "execution_count": 51,
   "id": "suitable-flight",
   "metadata": {},
   "outputs": [
    {
     "data": {
      "image/png": "[encoded data removed]",
      "text/plain": [
       "<Figure size 1080x720 with 1 Axes>"
      ]
     },
     "metadata": {},
     "output_type": "display_data"
    }
   ],
   "source": [
    "# Font size of text in pie chart\n",
    "textprops = {\"fontsize\":15} \n",
    "\n",
    "# Creating plot \n",
    "fig = plt.figure(figsize =(15, 10)) \n",
    "plt.pie(Method, labels = Method.to_frame().index, textprops = textprops) \n",
    "\n",
    "\n",
    "# Showing plot \n",
    "plt.title(label=\"Method Breakdown Percentage\")\n",
    "plt.xlabel(xlabel=\"Pie Chart\")\n",
    "plt.show() "
   ]
  },
  {
   "cell_type": "code",
   "execution_count": 52,
   "id": "latter-blame",
   "metadata": {},
   "outputs": [],
   "source": [
    "# Group by the Year\n",
    "Year_Group = breach.groupby(by=[\"Year\"], axis=0)"
   ]
  },
  {
   "cell_type": "code",
   "execution_count": 53,
   "id": "incorporated-handle",
   "metadata": {},
   "outputs": [],
   "source": [
    "Year = Year_Group.sum()[\"Records Lost\"]"
   ]
  },
  {
   "cell_type": "code",
   "execution_count": 54,
   "id": "official-macintosh",
   "metadata": {},
   "outputs": [
    {
     "data": {
      "text/html": [
       "<div>\n",
       "<style scoped>\n",
       "    .dataframe tbody tr th:only-of-type {\n",
       "        vertical-align: middle;\n",
       "    }\n",
       "\n",
       "    .dataframe tbody tr th {\n",
       "        vertical-align: top;\n",
       "    }\n",
       "\n",
       "    .dataframe thead th {\n",
       "        text-align: right;\n",
       "    }\n",
       "</style>\n",
       "<table border=\"1\" class=\"dataframe\">\n",
       "  <thead>\n",
       "    <tr style=\"text-align: right;\">\n",
       "      <th></th>\n",
       "      <th>Records Lost</th>\n",
       "    </tr>\n",
       "    <tr>\n",
       "      <th>Year</th>\n",
       "      <th></th>\n",
       "    </tr>\n",
       "  </thead>\n",
       "  <tbody>\n",
       "    <tr>\n",
       "      <th>1999</th>\n",
       "      <td>1.800000e+06</td>\n",
       "    </tr>\n",
       "    <tr>\n",
       "      <th>2004</th>\n",
       "      <td>9.200000e+07</td>\n",
       "    </tr>\n",
       "    <tr>\n",
       "      <th>2005</th>\n",
       "      <td>4.410000e+07</td>\n",
       "    </tr>\n",
       "    <tr>\n",
       "      <th>2006</th>\n",
       "      <td>5.082500e+07</td>\n",
       "    </tr>\n",
       "    <tr>\n",
       "      <th>2007</th>\n",
       "      <td>1.505974e+08</td>\n",
       "    </tr>\n",
       "    <tr>\n",
       "      <th>2008</th>\n",
       "      <td>8.845550e+07</td>\n",
       "    </tr>\n",
       "    <tr>\n",
       "      <th>2009</th>\n",
       "      <td>2.541528e+08</td>\n",
       "    </tr>\n",
       "    <tr>\n",
       "      <th>2010</th>\n",
       "      <td>1.054928e+07</td>\n",
       "    </tr>\n",
       "    <tr>\n",
       "      <th>2011</th>\n",
       "      <td>2.008417e+08</td>\n",
       "    </tr>\n",
       "    <tr>\n",
       "      <th>2012</th>\n",
       "      <td>2.328982e+08</td>\n",
       "    </tr>\n",
       "    <tr>\n",
       "      <th>2013</th>\n",
       "      <td>1.717785e+09</td>\n",
       "    </tr>\n",
       "    <tr>\n",
       "      <th>2014</th>\n",
       "      <td>3.386744e+08</td>\n",
       "    </tr>\n",
       "    <tr>\n",
       "      <th>2015</th>\n",
       "      <td>4.793470e+08</td>\n",
       "    </tr>\n",
       "    <tr>\n",
       "      <th>2016</th>\n",
       "      <td>1.801354e+09</td>\n",
       "    </tr>\n",
       "    <tr>\n",
       "      <th>2017</th>\n",
       "      <td>2.455191e+09</td>\n",
       "    </tr>\n",
       "    <tr>\n",
       "      <th>2018</th>\n",
       "      <td>4.071587e+09</td>\n",
       "    </tr>\n",
       "    <tr>\n",
       "      <th>2019</th>\n",
       "      <td>1.558750e+09</td>\n",
       "    </tr>\n",
       "  </tbody>\n",
       "</table>\n",
       "</div>"
      ],
      "text/plain": [
       "      Records Lost\n",
       "Year              \n",
       "1999  1.800000e+06\n",
       "2004  9.200000e+07\n",
       "2005  4.410000e+07\n",
       "2006  5.082500e+07\n",
       "2007  1.505974e+08\n",
       "2008  8.845550e+07\n",
       "2009  2.541528e+08\n",
       "2010  1.054928e+07\n",
       "2011  2.008417e+08\n",
       "2012  2.328982e+08\n",
       "2013  1.717785e+09\n",
       "2014  3.386744e+08\n",
       "2015  4.793470e+08\n",
       "2016  1.801354e+09\n",
       "2017  2.455191e+09\n",
       "2018  4.071587e+09\n",
       "2019  1.558750e+09"
      ]
     },
     "execution_count": 54,
     "metadata": {},
     "output_type": "execute_result"
    }
   ],
   "source": [
    "Year.to_frame()"
   ]
  },
  {
   "cell_type": "code",
   "execution_count": 55,
   "id": "approximate-picture",
   "metadata": {},
   "outputs": [
    {
     "data": {
      "text/plain": [
       "Text(0, 0.5, 'Billion')"
      ]
     },
     "execution_count": 55,
     "metadata": {},
     "output_type": "execute_result"
    },
    {
     "data": {
      "image/png": "[encoded data removed]",
      "text/plain": [
       "<Figure size 1440x1008 with 1 Axes>"
      ]
     },
     "metadata": {
      "needs_background": "light"
     },
     "output_type": "display_data"
    }
   ],
   "source": [
    "# textprops = {\"fontsize\":18} \n",
    "\n",
    "Year.to_frame().plot(kind=\"line\", figsize=(20, 14))\n",
    "plt.title(\"Time Series Analysis\")\n",
    "plt.xlabel(xlabel=\"Year\", fontsize=17)\n",
    "plt.ylabel(ylabel=\"Billion\", fontsize=17)"
   ]
  },
  {
   "cell_type": "markdown",
   "id": "49d372a9",
   "metadata": {},
   "source": [
    "---\n",
    "---"
   ]
  }
 ],
 "metadata": {
  "kernelspec": {
   "display_name": "Python 3",
   "language": "python",
   "name": "python3"
  },
  "language_info": {
   "codemirror_mode": {
    "name": "ipython",
    "version": 3
   },
   "file_extension": ".py",
   "mimetype": "text/x-python",
   "name": "python",
   "nbconvert_exporter": "python",
   "pygments_lexer": "ipython3",
   "version": "3.8.8"
  }
 },
 "nbformat": 4,
 "nbformat_minor": 5
}
